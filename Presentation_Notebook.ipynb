{
 "cells": [
  {
   "cell_type": "markdown",
   "metadata": {},
   "source": [
    "# R Object Oriented Field Guide\n",
    "### by Ian Flores\n",
    "October 17, 2018"
   ]
  },
  {
   "cell_type": "markdown",
   "metadata": {},
   "source": [
    "**GitHub link: [https://github.com/ian-flores/UBC-R-Study-Group_object-oriented-field-guide](https://github.com/ian-flores/UBC-R-Study-Group_object-oriented-field-guide)**\n",
    "\n",
    "**Bit.ly link: [https://bit.ly/2ym9UUM](https://bit.ly/2ym9UUM)**\n",
    "\n",
    "Outline:\n",
    "* Object Oriented Programming\n",
    "* Object Oriented Systems in R\n",
    "    * S3\n",
    "    * S4\n",
    "    * Reference Classes"
   ]
  },
  {
   "cell_type": "markdown",
   "metadata": {},
   "source": [
    "## Object Oriented Programming"
   ]
  },
  {
   "cell_type": "markdown",
   "metadata": {},
   "source": [
    "* Class\n",
    "    * Object\n",
    "        * Methods\n",
    "        * Attributes"
   ]
  },
  {
   "cell_type": "code",
   "execution_count": null,
   "metadata": {},
   "outputs": [],
   "source": []
  },
  {
   "cell_type": "markdown",
   "metadata": {},
   "source": [
    "## Object Oriented Systems in R"
   ]
  },
  {
   "cell_type": "code",
   "execution_count": 6,
   "metadata": {},
   "outputs": [],
   "source": [
    "library(pryr)\n",
    "suppressPackageStartupMessages(library(tidyverse))"
   ]
  },
  {
   "cell_type": "code",
   "execution_count": null,
   "metadata": {},
   "outputs": [],
   "source": []
  },
  {
   "cell_type": "markdown",
   "metadata": {},
   "source": [
    "### Base System"
   ]
  },
  {
   "cell_type": "markdown",
   "metadata": {},
   "source": [
    "* Every object in R is a `C` struct. "
   ]
  },
  {
   "cell_type": "code",
   "execution_count": 7,
   "metadata": {},
   "outputs": [
    {
     "data": {
      "text/html": [
       "'double'"
      ],
      "text/latex": [
       "'double'"
      ],
      "text/markdown": [
       "'double'"
      ],
      "text/plain": [
       "[1] \"double\""
      ]
     },
     "metadata": {},
     "output_type": "display_data"
    }
   ],
   "source": [
    "typeof(1)"
   ]
  },
  {
   "cell_type": "code",
   "execution_count": 8,
   "metadata": {},
   "outputs": [
    {
     "data": {
      "text/html": [
       "'character'"
      ],
      "text/latex": [
       "'character'"
      ],
      "text/markdown": [
       "'character'"
      ],
      "text/plain": [
       "[1] \"character\""
      ]
     },
     "metadata": {},
     "output_type": "display_data"
    }
   ],
   "source": [
    "typeof('UBC')"
   ]
  },
  {
   "cell_type": "code",
   "execution_count": 9,
   "metadata": {},
   "outputs": [
    {
     "data": {
      "text/html": [
       "'closure'"
      ],
      "text/latex": [
       "'closure'"
      ],
      "text/markdown": [
       "'closure'"
      ],
      "text/plain": [
       "[1] \"closure\""
      ]
     },
     "metadata": {},
     "output_type": "display_data"
    }
   ],
   "source": [
    "f <- function(){}\n",
    "typeof(f)"
   ]
  },
  {
   "cell_type": "markdown",
   "metadata": {},
   "source": [
    "### S3"
   ]
  },
  {
   "cell_type": "code",
   "execution_count": 33,
   "metadata": {},
   "outputs": [
    {
     "data": {
      "text/html": [
       "'S3'"
      ],
      "text/latex": [
       "'S3'"
      ],
      "text/markdown": [
       "'S3'"
      ],
      "text/plain": [
       "[1] \"S3\""
      ]
     },
     "metadata": {},
     "output_type": "display_data"
    }
   ],
   "source": [
    "df <- data.frame(num = 1:10, letter = letters[1:10])\n",
    "otype(df)"
   ]
  },
  {
   "cell_type": "code",
   "execution_count": 11,
   "metadata": {},
   "outputs": [
    {
     "data": {
      "text/html": [
       "'S3'"
      ],
      "text/latex": [
       "'S3'"
      ],
      "text/markdown": [
       "'S3'"
      ],
      "text/plain": [
       "[1] \"S3\""
      ]
     },
     "metadata": {},
     "output_type": "display_data"
    }
   ],
   "source": [
    "tib <- as.tibble(df)\n",
    "otype(tib)"
   ]
  },
  {
   "cell_type": "code",
   "execution_count": 12,
   "metadata": {},
   "outputs": [
    {
     "data": {
      "text/html": [
       "<table>\n",
       "<thead><tr><th scope=col>num</th><th scope=col>letter</th></tr></thead>\n",
       "<tbody>\n",
       "\t<tr><td>1</td><td>a</td></tr>\n",
       "</tbody>\n",
       "</table>\n"
      ],
      "text/latex": [
       "\\begin{tabular}{r|ll}\n",
       " num & letter\\\\\n",
       "\\hline\n",
       "\t 1 & a\\\\\n",
       "\\end{tabular}\n"
      ],
      "text/markdown": [
       "\n",
       "num | letter | \n",
       "|---|\n",
       "| 1 | a | \n",
       "\n",
       "\n"
      ],
      "text/plain": [
       "  num letter\n",
       "1 1   a     "
      ]
     },
     "metadata": {},
     "output_type": "display_data"
    }
   ],
   "source": [
    "filter(tib, num == 1)"
   ]
  },
  {
   "cell_type": "code",
   "execution_count": null,
   "metadata": {},
   "outputs": [],
   "source": [
    "tib.filter(num == 1)"
   ]
  },
  {
   "cell_type": "markdown",
   "metadata": {},
   "source": [
    "### Function Generics"
   ]
  },
  {
   "cell_type": "code",
   "execution_count": 13,
   "metadata": {},
   "outputs": [
    {
     "data": {
      "text/plain": [
       "[1] mean.Date     mean.default  mean.difftime mean.POSIXct  mean.POSIXlt \n",
       "see '?methods' for accessing help and source code"
      ]
     },
     "metadata": {},
     "output_type": "display_data"
    }
   ],
   "source": [
    "methods('mean')"
   ]
  },
  {
   "cell_type": "code",
   "execution_count": 14,
   "metadata": {},
   "outputs": [
    {
     "data": {
      "text/plain": [
       "  [1] print.acf*                                        \n",
       "  [2] print.AES*                                        \n",
       "  [3] print.all_vars*                                   \n",
       "  [4] print.anova*                                      \n",
       "  [5] print.anova.lme*                                  \n",
       "  [6] print.any_vars*                                   \n",
       "  [7] print.aov*                                        \n",
       "  [8] print.aovlist*                                    \n",
       "  [9] print.ar*                                         \n",
       " [10] print.Arima*                                      \n",
       " [11] print.arima0*                                     \n",
       " [12] print.AsIs                                        \n",
       " [13] print.aspell*                                     \n",
       " [14] print.aspell_inspect_context*                     \n",
       " [15] print.bibentry*                                   \n",
       " [16] print.Bibtex*                                     \n",
       " [17] print.BoolResult*                                 \n",
       " [18] print.boxx*                                       \n",
       " [19] print.browseVignettes*                            \n",
       " [20] print.by                                          \n",
       " [21] print.bytes*                                      \n",
       " [22] print.cache_info*                                 \n",
       " [23] print.cell_addr*                                  \n",
       " [24] print.cell_limits*                                \n",
       " [25] print.changedFiles*                               \n",
       " [26] print.check_code_usage_in_package*                \n",
       " [27] print.check_compiled_code*                        \n",
       " [28] print.check_demo_index*                           \n",
       " [29] print.check_depdef*                               \n",
       " [30] print.check_details*                              \n",
       " [31] print.check_details_changes*                      \n",
       " [32] print.check_doi_db*                               \n",
       " [33] print.check_dotInternal*                          \n",
       " [34] print.check_make_vars*                            \n",
       " [35] print.check_nonAPI_calls*                         \n",
       " [36] print.check_package_code_assign_to_globalenv*     \n",
       " [37] print.check_package_code_attach*                  \n",
       " [38] print.check_package_code_data_into_globalenv*     \n",
       " [39] print.check_package_code_startup_functions*       \n",
       " [40] print.check_package_code_syntax*                  \n",
       " [41] print.check_package_code_unload_functions*        \n",
       " [42] print.check_package_compact_datasets*             \n",
       " [43] print.check_package_CRAN_incoming*                \n",
       " [44] print.check_package_datasets*                     \n",
       " [45] print.check_package_depends*                      \n",
       " [46] print.check_package_description*                  \n",
       " [47] print.check_package_description_encoding*         \n",
       " [48] print.check_package_license*                      \n",
       " [49] print.check_packages_in_dir*                      \n",
       " [50] print.check_packages_used*                        \n",
       " [51] print.check_po_files*                             \n",
       " [52] print.check_pragmas*                              \n",
       " [53] print.check_Rd_contents*                          \n",
       " [54] print.check_Rd_line_widths*                       \n",
       " [55] print.check_Rd_metadata*                          \n",
       " [56] print.check_Rd_xrefs*                             \n",
       " [57] print.check_RegSym_calls*                         \n",
       " [58] print.check_so_symbols*                           \n",
       " [59] print.check_T_and_F*                              \n",
       " [60] print.check_url_db*                               \n",
       " [61] print.check_vignette_index*                       \n",
       " [62] print.checkDocFiles*                              \n",
       " [63] print.checkDocStyle*                              \n",
       " [64] print.checkFF*                                    \n",
       " [65] print.checkRd*                                    \n",
       " [66] print.checkReplaceFuns*                           \n",
       " [67] print.checkS3methods*                             \n",
       " [68] print.checkTnF*                                   \n",
       " [69] print.checkVignettes*                             \n",
       " [70] print.citation*                                   \n",
       " [71] print.codoc*                                      \n",
       " [72] print.codocClasses*                               \n",
       " [73] print.codocData*                                  \n",
       " [74] print.col_spec*                                   \n",
       " [75] print.collector*                                  \n",
       " [76] print.colonnade*                                  \n",
       " [77] print.colorConverter*                             \n",
       " [78] print.compactPDF*                                 \n",
       " [79] print.compareFits*                                \n",
       " [80] print.condition                                   \n",
       " [81] print.connection                                  \n",
       " [82] print.corNatural*                                 \n",
       " [83] print.correlation*                                \n",
       " [84] print.corStruct*                                  \n",
       " [85] print.corSymm*                                    \n",
       " [86] print.CRAN_package_reverse_dependencies_and_views*\n",
       " [87] print.crayon*                                     \n",
       " [88] print.data.frame                                  \n",
       " [89] print.Date                                        \n",
       " [90] print.date_names*                                 \n",
       " [91] print.default                                     \n",
       " [92] print.dendrogram*                                 \n",
       " [93] print.density*                                    \n",
       " [94] print.difftime                                    \n",
       " [95] print.dist*                                       \n",
       " [96] print.Dlist                                       \n",
       " [97] print.DLLInfo                                     \n",
       " [98] print.DLLInfoList                                 \n",
       " [99] print.DLLRegisteredRoutines                       \n",
       "[100] print.document_context*                           \n",
       "[101] print.document_position*                          \n",
       "[102] print.document_range*                             \n",
       "[103] print.document_selection*                         \n",
       "[104] print.dummy_coef*                                 \n",
       "[105] print.dummy_coef_list*                            \n",
       "[106] print.ecdf*                                       \n",
       "[107] print.eigen                                       \n",
       "[108] print.element*                                    \n",
       "[109] print.envlist*                                    \n",
       "[110] print.factanal*                                   \n",
       "[111] print.factor                                      \n",
       "[112] print.family*                                     \n",
       "[113] print.fields*                                     \n",
       "[114] print.fileSnapshot*                               \n",
       "[115] print.findLineNumResult*                          \n",
       "[116] print.flatGridListing*                            \n",
       "[117] print.form*                                       \n",
       "[118] print.formula*                                    \n",
       "[119] print.frame*                                      \n",
       "[120] print.fseq*                                       \n",
       "[121] print.ftable*                                     \n",
       "[122] print.fun_list*                                   \n",
       "[123] print.function                                    \n",
       "[124] print.getAnywhere*                                \n",
       "[125] print.ggplot*                                     \n",
       "[126] print.ggplot2_bins*                               \n",
       "[127] print.ggproto*                                    \n",
       "[128] print.ggproto_method*                             \n",
       "[129] print.gList*                                      \n",
       "[130] print.glm*                                        \n",
       "[131] print.gls*                                        \n",
       "[132] print.glue*                                       \n",
       "[133] print.gpar*                                       \n",
       "[134] print.grob*                                       \n",
       "[135] print.groupedData*                                \n",
       "[136] print.gtable*                                     \n",
       "[137] print.handle*                                     \n",
       "[138] print.hclust*                                     \n",
       "[139] print.help_files_with_topic*                      \n",
       "[140] print.hexmode                                     \n",
       "[141] print.history*                                    \n",
       "[142] print.hms*                                        \n",
       "[143] print.HoltWinters*                                \n",
       "[144] print.hsearch*                                    \n",
       "[145] print.hsearch_db*                                 \n",
       "[146] print.htest*                                      \n",
       "[147] print.html*                                       \n",
       "[148] print.html_dependency*                            \n",
       "[149] print.indexed*                                    \n",
       "[150] print.infl*                                       \n",
       "[151] print.inspect*                                    \n",
       "[152] print.inspect_NILSXP*                             \n",
       "[153] print.integrate*                                  \n",
       "[154] print.intervals.gls*                              \n",
       "[155] print.intervals.lme*                              \n",
       "[156] print.intervals.lmList*                           \n",
       "[157] print.isoreg*                                     \n",
       "[158] print.json*                                       \n",
       "[159] print.kmeans*                                     \n",
       "[160] print.labelled*                                   \n",
       "[161] print.labelled_spss*                              \n",
       "[162] print.Latex*                                      \n",
       "[163] print.LaTeX*                                      \n",
       "[164] print.lazy*                                       \n",
       "[165] print.libraryIQR                                  \n",
       "[166] print.listof                                      \n",
       "[167] print.lm*                                         \n",
       "[168] print.lme*                                        \n",
       "[169] print.lmList*                                     \n",
       "[170] print.loadings*                                   \n",
       "[171] print.locale*                                     \n",
       "[172] print.location*                                   \n",
       "[173] print.loess*                                      \n",
       "[174] print.logLik*                                     \n",
       "[175] print.ls_str*                                     \n",
       "[176] print.medpolish*                                  \n",
       "[177] print.MethodsFunction*                            \n",
       "[178] print.modelStruct*                                \n",
       "[179] print.mtable*                                     \n",
       "[180] print.NativeRoutineList                           \n",
       "[181] print.news_db*                                    \n",
       "[182] print.nls*                                        \n",
       "[183] print.noquote                                     \n",
       "[184] print.numeric_version                             \n",
       "[185] print.oauth_app*                                  \n",
       "[186] print.oauth_endpoint*                             \n",
       "[187] print.object_size*                                \n",
       "[188] print.octmode                                     \n",
       "[189] print.opts_list*                                  \n",
       "[190] print.packageDescription*                         \n",
       "[191] print.packageInfo                                 \n",
       "[192] print.packageIQR*                                 \n",
       "[193] print.packageStatus*                              \n",
       "[194] print.pairwise.htest*                             \n",
       "[195] print.path*                                       \n",
       "[196] print.PDF_Array*                                  \n",
       "[197] print.PDF_Dictionary*                             \n",
       "[198] print.pdf_doc*                                    \n",
       "[199] print.pdf_fonts*                                  \n",
       "[200] print.PDF_Indirect_Reference*                     \n",
       "[201] print.pdf_info*                                   \n",
       "[202] print.PDF_Keyword*                                \n",
       "[203] print.PDF_Name*                                   \n",
       "[204] print.PDF_Stream*                                 \n",
       "[205] print.PDF_String*                                 \n",
       "[206] print.pdMat*                                      \n",
       "[207] print.permutation*                                \n",
       "[208] print.person*                                     \n",
       "[209] print.pillar*                                     \n",
       "[210] print.pillar_ornament*                            \n",
       "[211] print.pillar_shaft*                               \n",
       "[212] print.pillar_vertical*                            \n",
       "[213] print.POSIXct                                     \n",
       "[214] print.POSIXlt                                     \n",
       "[215] print.power.htest*                                \n",
       "[216] print.ppr*                                        \n",
       "[217] print.prcomp*                                     \n",
       "[218] print.princomp*                                   \n",
       "[219] print.proc_time                                   \n",
       "[220] print.quosure*                                    \n",
       "[221] print.quosures*                                   \n",
       "[222] print.quoted*                                     \n",
       "[223] print.R6*                                         \n",
       "[224] print.R6ClassGenerator*                           \n",
       "[225] print.ra_ref*                                     \n",
       "[226] print.ranef.lme*                                  \n",
       "[227] print.raster*                                     \n",
       "[228] print.Rcpp_stack_trace*                           \n",
       "[229] print.Rd*                                         \n",
       "[230] print.recordedplot*                               \n",
       "[231] print.rel*                                        \n",
       "[232] print.request*                                    \n",
       "[233] print.resample*                                   \n",
       "[234] print.response*                                   \n",
       "[235] print.restart                                     \n",
       "[236] print.reStruct*                                   \n",
       "[237] print.RGBcolorConverter*                          \n",
       "[238] print.rif_shaft*                                  \n",
       "[239] print.rlang_data_pronoun*                         \n",
       "[240] print.rle                                         \n",
       "[241] print.roman*                                      \n",
       "[242] print.rowwise_df*                                 \n",
       "[243] print.rule*                                       \n",
       "[244] print.scalar*                                     \n",
       "[245] print.session*                                    \n",
       "[246] print.sessionInfo*                                \n",
       "[247] print.shingle*                                    \n",
       "[248] print.shingleLevel*                               \n",
       "[249] print.shiny.tag*                                  \n",
       "[250] print.shiny.tag.list*                             \n",
       "[251] print.simple.list                                 \n",
       "[252] print.simulate.lme*                               \n",
       "[253] print.smooth.spline*                              \n",
       "[254] print.socket*                                     \n",
       "[255] print.spark*                                      \n",
       "[256] print.split*                                      \n",
       "[257] print.squeezed_colonnade*                         \n",
       "[258] print.src*                                        \n",
       "[259] print.srcfile                                     \n",
       "[260] print.srcref                                      \n",
       "[261] print.stepfun*                                    \n",
       "[262] print.stl*                                        \n",
       "[263] print.StructTS*                                   \n",
       "[264] print.subdir_tests*                               \n",
       "[265] print.summarize_CRAN_check_status*                \n",
       "[266] print.summary.aov*                                \n",
       "[267] print.summary.aovlist*                            \n",
       "[268] print.summary.corNatural*                         \n",
       "[269] print.summary.corStruct*                          \n",
       "[270] print.summary.corSymm*                            \n",
       "[271] print.summary.ecdf*                               \n",
       "[272] print.summary.glm*                                \n",
       "[273] print.summary.gls*                                \n",
       "[274] print.summary.lm*                                 \n",
       "[275] print.summary.lme*                                \n",
       "[276] print.summary.lmList*                             \n",
       "[277] print.summary.loess*                              \n",
       "[278] print.summary.manova*                             \n",
       "[279] print.summary.modelStruct*                        \n",
       "[280] print.summary.nls*                                \n",
       "[281] print.summary.packageStatus*                      \n",
       "[282] print.summary.pdMat*                              \n",
       "[283] print.summary.ppr*                                \n",
       "[284] print.summary.prcomp*                             \n",
       "[285] print.summary.princomp*                           \n",
       "[286] print.summary.table                               \n",
       "[287] print.summary.trellis*                            \n",
       "[288] print.summary.varComb*                            \n",
       "[289] print.summary.varFixed*                           \n",
       "[290] print.summary.varFunc*                            \n",
       "[291] print.summary.warnings                            \n",
       "[292] print.summaryDefault                              \n",
       "[293] print.table                                       \n",
       "[294] print.tables_aov*                                 \n",
       "[295] print.tbl*                                        \n",
       "[296] print.tbl_cube*                                   \n",
       "[297] print.tbl_df*                                     \n",
       "[298] print.terms*                                      \n",
       "[299] print.theme*                                      \n",
       "[300] print.tidyverse_conflicts*                        \n",
       "[301] print.tidyverse_logo*                             \n",
       "[302] print.trans*                                      \n",
       "[303] print.tree*                                       \n",
       "[304] print.trellis*                                    \n",
       "[305] print.trunc_mat*                                  \n",
       "[306] print.ts*                                         \n",
       "[307] print.tskernel*                                   \n",
       "[308] print.TukeyHSD*                                   \n",
       "[309] print.tukeyline*                                  \n",
       "[310] print.tukeysmooth*                                \n",
       "[311] print.undoc*                                      \n",
       "[312] print.uneval*                                     \n",
       "[313] print.unit*                                       \n",
       "[314] print.varComb*                                    \n",
       "[315] print.VarCorr.lme*                                \n",
       "[316] print.VarCov*                                     \n",
       "[317] print.varFunc*                                    \n",
       "[318] print.viewport*                                   \n",
       "[319] print.vignette                                    \n",
       "[320] print.warnings                                    \n",
       "[321] print.xgettext*                                   \n",
       "[322] print.xml_document*                               \n",
       "[323] print.xml_missing*                                \n",
       "[324] print.xml_namespace*                              \n",
       "[325] print.xml_node*                                   \n",
       "[326] print.xml_nodeset*                                \n",
       "[327] print.xngettext*                                  \n",
       "[328] print.xtabs*                                      \n",
       "see '?methods' for accessing help and source code"
      ]
     },
     "metadata": {},
     "output_type": "display_data"
    }
   ],
   "source": [
    "methods('print')"
   ]
  },
  {
   "cell_type": "code",
   "execution_count": 15,
   "metadata": {},
   "outputs": [
    {
     "data": {
      "text/plain": [
       "  [1] [              [[             [[<-           [<-            $             \n",
       "  [6] $<-            aggregate      anti_join      anyDuplicated  arrange_      \n",
       " [11] arrange        as_data_frame  as_factor      as_tibble      as.data.frame \n",
       " [16] as.list        as.matrix      as.tbl_cube    as.tbl         by            \n",
       " [21] cbind          coerce         collapse       collect        complete_     \n",
       " [26] complete       compute        dim            dimnames       dimnames<-    \n",
       " [31] distinct_      distinct       do_            do             drop_na_      \n",
       " [36] drop_na        droplevels     duplicated     edit           expand_       \n",
       " [41] expand         extract_       extract        fill_          fill          \n",
       " [46] filter_        filter         format         formula        fortify       \n",
       " [51] full_join      gather_        gather         ggplot_add     glimpse       \n",
       " [56] group_by_      group_by       group_indices_ group_indices  group_size    \n",
       " [61] groups         head           initialize     inner_join     intersect     \n",
       " [66] is_vector_s3   is.na          left_join      Math           merge         \n",
       " [71] mutate_        mutate         n_groups       na.exclude     na.omit       \n",
       " [76] nest_          nest           Ops            plot           print         \n",
       " [81] prompt         pull           rbind          rename_        rename        \n",
       " [86] replace_na     right_join     row.names      row.names<-    rowsum        \n",
       " [91] same_src       sample_frac    sample_n       select_        select        \n",
       " [96] semi_join      separate_      separate_rows_ separate_rows  separate      \n",
       "[101] setdiff        setequal       show           slice_         slice         \n",
       "[106] slotsFromS3    split          split<-        spread_        spread        \n",
       "[111] stack          str            subset         summarise_     summarise     \n",
       "[116] summary        Summary        t              tail           tbl_vars      \n",
       "[121] transform      type_sum       type.convert   ungroup        union_all     \n",
       "[126] union          unique         unite_         unite          unnest_       \n",
       "[131] unnest         unstack        within        \n",
       "see '?methods' for accessing help and source code"
      ]
     },
     "metadata": {},
     "output_type": "display_data"
    }
   ],
   "source": [
    "methods(class = 'data.frame')"
   ]
  },
  {
   "cell_type": "code",
   "execution_count": 16,
   "metadata": {},
   "outputs": [
    {
     "data": {
      "text/plain": [
       " [1] [[<-        [<-         $<-         as.tbl      coerce      format     \n",
       " [7] fortify     glimpse     initialize  Ops         print       show       \n",
       "[13] slotsFromS3 tbl_sum    \n",
       "see '?methods' for accessing help and source code"
      ]
     },
     "metadata": {},
     "output_type": "display_data"
    }
   ],
   "source": [
    "methods(class = 'tbl')"
   ]
  },
  {
   "cell_type": "code",
   "execution_count": 18,
   "metadata": {},
   "outputs": [],
   "source": [
    "toyota_car <- structure(list(brand = 'toyota', \n",
    "                             year = 2018, \n",
    "                             color = 'white', \n",
    "                             model = 'Rav4'),\n",
    "                       class = 'Car')"
   ]
  },
  {
   "cell_type": "code",
   "execution_count": 19,
   "metadata": {},
   "outputs": [
    {
     "data": {
      "text/plain": [
       "$brand\n",
       "[1] \"toyota\"\n",
       "\n",
       "$year\n",
       "[1] 2018\n",
       "\n",
       "$color\n",
       "[1] \"white\"\n",
       "\n",
       "$model\n",
       "[1] \"Rav4\"\n",
       "\n",
       "attr(,\"class\")\n",
       "[1] \"Car\""
      ]
     },
     "metadata": {},
     "output_type": "display_data"
    }
   ],
   "source": [
    "toyota_car"
   ]
  },
  {
   "cell_type": "code",
   "execution_count": 20,
   "metadata": {},
   "outputs": [
    {
     "data": {
      "text/html": [
       "TRUE"
      ],
      "text/latex": [
       "TRUE"
      ],
      "text/markdown": [
       "TRUE"
      ],
      "text/plain": [
       "[1] TRUE"
      ]
     },
     "metadata": {},
     "output_type": "display_data"
    }
   ],
   "source": [
    "inherits(toyota_car, 'Car')"
   ]
  },
  {
   "cell_type": "code",
   "execution_count": 21,
   "metadata": {},
   "outputs": [],
   "source": [
    " #data.frame()"
   ]
  },
  {
   "cell_type": "code",
   "execution_count": null,
   "metadata": {},
   "outputs": [],
   "source": []
  },
  {
   "cell_type": "markdown",
   "metadata": {},
   "source": [
    "### S4"
   ]
  },
  {
   "cell_type": "code",
   "execution_count": 22,
   "metadata": {},
   "outputs": [],
   "source": [
    "library(stats4)"
   ]
  },
  {
   "cell_type": "code",
   "execution_count": 23,
   "metadata": {},
   "outputs": [],
   "source": [
    "y <- c(1:10)\n",
    "nLL <- function(lambda) - sum(dpois(y, lambda, log = TRUE))\n",
    "fit <- mle(nLL, start = list(lambda = 5), nobs = length(y))"
   ]
  },
  {
   "cell_type": "code",
   "execution_count": 28,
   "metadata": {},
   "outputs": [],
   "source": [
    "?mle"
   ]
  },
  {
   "cell_type": "code",
   "execution_count": 24,
   "metadata": {},
   "outputs": [
    {
     "data": {
      "text/plain": [
       "\n",
       "Call:\n",
       "mle(minuslogl = nLL, start = list(lambda = 5), nobs = length(y))\n",
       "\n",
       "Coefficients:\n",
       "lambda \n",
       "   5.5 "
      ]
     },
     "metadata": {},
     "output_type": "display_data"
    }
   ],
   "source": [
    "fit"
   ]
  },
  {
   "cell_type": "code",
   "execution_count": 25,
   "metadata": {},
   "outputs": [
    {
     "data": {
      "text/html": [
       "TRUE"
      ],
      "text/latex": [
       "TRUE"
      ],
      "text/markdown": [
       "TRUE"
      ],
      "text/plain": [
       "[1] TRUE"
      ]
     },
     "metadata": {},
     "output_type": "display_data"
    }
   ],
   "source": [
    "isS4(fit)"
   ]
  },
  {
   "cell_type": "code",
   "execution_count": 26,
   "metadata": {},
   "outputs": [
    {
     "data": {
      "text/html": [
       "'mle'"
      ],
      "text/latex": [
       "'mle'"
      ],
      "text/markdown": [
       "'mle'"
      ],
      "text/plain": [
       "[1] \"mle\""
      ]
     },
     "metadata": {},
     "output_type": "display_data"
    }
   ],
   "source": [
    "is(fit)"
   ]
  },
  {
   "cell_type": "code",
   "execution_count": 27,
   "metadata": {},
   "outputs": [
    {
     "data": {
      "text/html": [
       "TRUE"
      ],
      "text/latex": [
       "TRUE"
      ],
      "text/markdown": [
       "TRUE"
      ],
      "text/plain": [
       "[1] TRUE"
      ]
     },
     "metadata": {},
     "output_type": "display_data"
    }
   ],
   "source": [
    "is(fit, 'mle')"
   ]
  },
  {
   "cell_type": "markdown",
   "metadata": {},
   "source": [
    "### Our objects"
   ]
  },
  {
   "cell_type": "code",
   "execution_count": 29,
   "metadata": {},
   "outputs": [],
   "source": [
    "setClass('R Programmer', slots = list(name = 'character', \n",
    "                                      packages = 'character'))"
   ]
  },
  {
   "cell_type": "code",
   "execution_count": 30,
   "metadata": {},
   "outputs": [
    {
     "data": {
      "text/plain": [
       "An object of class \"R Programmer\"\n",
       "Slot \"name\":\n",
       "[1] \"Ian\"\n",
       "\n",
       "Slot \"packages\":\n",
       "[1] \"pryr\"    \"ggplot2\"\n"
      ]
     },
     "metadata": {},
     "output_type": "display_data"
    }
   ],
   "source": [
    "(mds_student <- new('R Programmer', name = 'Ian', \n",
    "                   packages =c('pryr', 'ggplot2')))"
   ]
  },
  {
   "cell_type": "code",
   "execution_count": 31,
   "metadata": {},
   "outputs": [
    {
     "data": {
      "text/html": [
       "<ol class=list-inline>\n",
       "\t<li>'pryr'</li>\n",
       "\t<li>'ggplot2'</li>\n",
       "</ol>\n"
      ],
      "text/latex": [
       "\\begin{enumerate*}\n",
       "\\item 'pryr'\n",
       "\\item 'ggplot2'\n",
       "\\end{enumerate*}\n"
      ],
      "text/markdown": [
       "1. 'pryr'\n",
       "2. 'ggplot2'\n",
       "\n",
       "\n"
      ],
      "text/plain": [
       "[1] \"pryr\"    \"ggplot2\""
      ]
     },
     "metadata": {},
     "output_type": "display_data"
    }
   ],
   "source": [
    "mds_student@packages"
   ]
  },
  {
   "cell_type": "code",
   "execution_count": 32,
   "metadata": {},
   "outputs": [
    {
     "data": {
      "text/html": [
       "'ggplot2'"
      ],
      "text/latex": [
       "'ggplot2'"
      ],
      "text/markdown": [
       "'ggplot2'"
      ],
      "text/plain": [
       "[1] \"ggplot2\""
      ]
     },
     "metadata": {},
     "output_type": "display_data"
    }
   ],
   "source": [
    "mds_student@packages[2]"
   ]
  },
  {
   "cell_type": "markdown",
   "metadata": {},
   "source": [
    "`standardGeneric()`"
   ]
  },
  {
   "cell_type": "markdown",
   "metadata": {},
   "source": [
    "### Reference Classes"
   ]
  },
  {
   "cell_type": "code",
   "execution_count": 37,
   "metadata": {},
   "outputs": [],
   "source": [
    "vehicle <- setRefClass('Vehicle')"
   ]
  },
  {
   "cell_type": "code",
   "execution_count": 40,
   "metadata": {},
   "outputs": [
    {
     "data": {
      "text/html": [
       "<pre class=language-r><code>new(\"refObjectGenerator\", .Data = function (...) \n",
       "new(\"Vehicle\", ...), generator = new(\"refGeneratorSlot\", .xData = &lt;environment&gt;), \n",
       "<span style=white-space:pre-wrap>    className = structure(\"Vehicle\", package = \".GlobalEnv\"), </span>\n",
       "<span style=white-space:pre-wrap>    package = \".GlobalEnv\")</span></code></pre>"
      ],
      "text/latex": [
       "\\begin{minted}{r}\n",
       "new(\"refObjectGenerator\", .Data = function (...) \n",
       "new(\"Vehicle\", ...), generator = new(\"refGeneratorSlot\", .xData = <environment>), \n",
       "    className = structure(\"Vehicle\", package = \".GlobalEnv\"), \n",
       "    package = \".GlobalEnv\")\n",
       "\\end{minted}"
      ],
      "text/markdown": [
       "```r\n",
       "new(\"refObjectGenerator\", .Data = function (...) \n",
       "new(\"Vehicle\", ...), generator = new(\"refGeneratorSlot\", .xData = <environment>), \n",
       "    className = structure(\"Vehicle\", package = \".GlobalEnv\"), \n",
       "    package = \".GlobalEnv\")\n",
       "```"
      ],
      "text/plain": [
       "new(\"refObjectGenerator\", .Data = function (...) \n",
       "new(\"Vehicle\", ...), generator = new(\"refGeneratorSlot\", .xData = <environment>), \n",
       "    className = \"Vehicle\", package = \".GlobalEnv\")\n",
       "attr(,\"className\")\n",
       "[1] \"Vehicle\"\n",
       "attr(,\"className\")attr(,\"package\")\n",
       "[1] \".GlobalEnv\"\n",
       "attr(,\"package\")\n",
       "[1] \".GlobalEnv\"\n",
       "attr(,\"generator\")\n",
       "Reference class object of class \"refGeneratorSlot\"\n",
       "Field \"def\":\n",
       "Reference Class \"Vehicle\":\n",
       "\n",
       "Class fields:\n",
       "                              \n",
       "Name:    tires   doors   price\n",
       "Class: numeric numeric numeric\n",
       "\n",
       "Class Methods: \n",
       "     \"field\", \"trace\", \"getRefClass\", \"initFields\", \"copy\", \"callSuper\", \n",
       "     \".objectPackage\", \"export\", \"untrace\", \"getClass\", \"show\", \"usingMethods\", \n",
       "     \".objectParent\", \"import\"\n",
       "\n",
       "Reference Superclasses: \n",
       "     \"envRefClass\"\n",
       "\n",
       "Field \"className\":\n",
       "[1] \"Vehicle\"\n",
       "attr(,\"class\")\n",
       "[1] \"refObjectGenerator\"\n",
       "attr(,\"class\")attr(,\"package\")\n",
       "[1] \"methods\""
      ]
     },
     "metadata": {},
     "output_type": "display_data"
    }
   ],
   "source": [
    "(vehicle <- setRefClass('Vehicle', \n",
    "                      fields = list(tires = 'numeric', \n",
    "                                   doors = 'numeric', \n",
    "                                   price = 'numeric')))"
   ]
  },
  {
   "cell_type": "code",
   "execution_count": 41,
   "metadata": {},
   "outputs": [
    {
     "data": {
      "text/plain": [
       "Reference class object of class \"Vehicle\"\n",
       "Field \"tires\":\n",
       "[1] 2\n",
       "Field \"doors\":\n",
       "[1] 0\n",
       "Field \"price\":\n",
       "[1] 300"
      ]
     },
     "metadata": {},
     "output_type": "display_data"
    }
   ],
   "source": [
    "(bike <- vehicle$new(tires = 2, doors = 0, price = 300))"
   ]
  },
  {
   "cell_type": "code",
   "execution_count": 42,
   "metadata": {},
   "outputs": [
    {
     "data": {
      "text/plain": [
       "Reference class object of class \"Vehicle\"\n",
       "Field \"tires\":\n",
       "[1] 2\n",
       "Field \"doors\":\n",
       "[1] 0\n",
       "Field \"price\":\n",
       "[1] 300"
      ]
     },
     "metadata": {},
     "output_type": "display_data"
    }
   ],
   "source": [
    "(bike_copy <- bike$copy())"
   ]
  },
  {
   "cell_type": "code",
   "execution_count": 43,
   "metadata": {},
   "outputs": [
    {
     "data": {
      "text/plain": [
       "Reference class object of class \"Vehicle\"\n",
       "Field \"tires\":\n",
       "[1] 3\n",
       "Field \"doors\":\n",
       "[1] 0\n",
       "Field \"price\":\n",
       "[1] 300"
      ]
     },
     "metadata": {},
     "output_type": "display_data"
    }
   ],
   "source": [
    "bike_copy$tires <- 3\n",
    "bike_copy"
   ]
  },
  {
   "cell_type": "code",
   "execution_count": 44,
   "metadata": {},
   "outputs": [
    {
     "data": {
      "text/plain": [
       "Reference class object of class \"Vehicle\"\n",
       "Field \"tires\":\n",
       "[1] 2\n",
       "Field \"doors\":\n",
       "[1] 0\n",
       "Field \"price\":\n",
       "[1] 300"
      ]
     },
     "metadata": {},
     "output_type": "display_data"
    }
   ],
   "source": [
    "bike"
   ]
  },
  {
   "cell_type": "code",
   "execution_count": 45,
   "metadata": {},
   "outputs": [
    {
     "data": {
      "text/html": [
       "<pre class=language-r><code>new(\"refObjectGenerator\", .Data = function (...) \n",
       "new(\"Vehicle\", ...), generator = new(\"refGeneratorSlot\", .xData = &lt;environment&gt;), \n",
       "<span style=white-space:pre-wrap>    className = structure(\"Vehicle\", package = \".GlobalEnv\"), </span>\n",
       "<span style=white-space:pre-wrap>    package = \".GlobalEnv\")</span></code></pre>"
      ],
      "text/latex": [
       "\\begin{minted}{r}\n",
       "new(\"refObjectGenerator\", .Data = function (...) \n",
       "new(\"Vehicle\", ...), generator = new(\"refGeneratorSlot\", .xData = <environment>), \n",
       "    className = structure(\"Vehicle\", package = \".GlobalEnv\"), \n",
       "    package = \".GlobalEnv\")\n",
       "\\end{minted}"
      ],
      "text/markdown": [
       "```r\n",
       "new(\"refObjectGenerator\", .Data = function (...) \n",
       "new(\"Vehicle\", ...), generator = new(\"refGeneratorSlot\", .xData = <environment>), \n",
       "    className = structure(\"Vehicle\", package = \".GlobalEnv\"), \n",
       "    package = \".GlobalEnv\")\n",
       "```"
      ],
      "text/plain": [
       "new(\"refObjectGenerator\", .Data = function (...) \n",
       "new(\"Vehicle\", ...), generator = new(\"refGeneratorSlot\", .xData = <environment>), \n",
       "    className = \"Vehicle\", package = \".GlobalEnv\")\n",
       "attr(,\"className\")\n",
       "[1] \"Vehicle\"\n",
       "attr(,\"className\")attr(,\"package\")\n",
       "[1] \".GlobalEnv\"\n",
       "attr(,\"package\")\n",
       "[1] \".GlobalEnv\"\n",
       "attr(,\"generator\")\n",
       "Reference class object of class \"refGeneratorSlot\"\n",
       "Field \"def\":\n",
       "Reference Class \"Vehicle\":\n",
       "\n",
       "Class fields:\n",
       "                              \n",
       "Name:    tires   doors   price\n",
       "Class: numeric numeric numeric\n",
       "\n",
       "Class Methods: \n",
       "     \"add_tires\", \"seal_one_door\", \"field\", \"trace\", \"getRefClass\", \n",
       "     \"initFields\", \"copy\", \"callSuper\", \".objectPackage\", \"export\", \"untrace\", \n",
       "     \"getClass\", \"show\", \"usingMethods\", \".objectParent\", \"import\"\n",
       "\n",
       "Reference Superclasses: \n",
       "     \"envRefClass\"\n",
       "\n",
       "Field \"className\":\n",
       "[1] \"Vehicle\"\n",
       "attr(,\"class\")\n",
       "[1] \"refObjectGenerator\"\n",
       "attr(,\"class\")attr(,\"package\")\n",
       "[1] \"methods\""
      ]
     },
     "metadata": {},
     "output_type": "display_data"
    }
   ],
   "source": [
    "(vehicle <- setRefClass('Vehicle', \n",
    "                      fields = list(tires = 'numeric', \n",
    "                                   doors = 'numeric', \n",
    "                                   price = 'numeric'),\n",
    "                       methods = list(\n",
    "                           seal_one_door = function(x){\n",
    "                               doors <<- doors - 1\n",
    "                           }, \n",
    "                           add_tires = function(x){\n",
    "                               tires <<- tires + 1\n",
    "                           }\n",
    "                       )))"
   ]
  },
  {
   "cell_type": "code",
   "execution_count": 46,
   "metadata": {},
   "outputs": [
    {
     "data": {
      "text/plain": [
       "Reference class object of class \"Vehicle\"\n",
       "Field \"tires\":\n",
       "[1] 2\n",
       "Field \"doors\":\n",
       "[1] 0\n",
       "Field \"price\":\n",
       "[1] 300"
      ]
     },
     "metadata": {},
     "output_type": "display_data"
    }
   ],
   "source": [
    "(bike <- vehicle$new(tires = 2, doors = 0, price = 300))"
   ]
  },
  {
   "cell_type": "code",
   "execution_count": 47,
   "metadata": {},
   "outputs": [],
   "source": [
    "bike$add_tires()"
   ]
  },
  {
   "cell_type": "code",
   "execution_count": 48,
   "metadata": {},
   "outputs": [
    {
     "data": {
      "text/plain": [
       "Reference class object of class \"Vehicle\"\n",
       "Field \"tires\":\n",
       "[1] 3\n",
       "Field \"doors\":\n",
       "[1] 0\n",
       "Field \"price\":\n",
       "[1] 300"
      ]
     },
     "metadata": {},
     "output_type": "display_data"
    }
   ],
   "source": [
    "bike"
   ]
  },
  {
   "cell_type": "code",
   "execution_count": 49,
   "metadata": {},
   "outputs": [],
   "source": [
    "buses <- setRefClass('Buses', \n",
    "                    contains = 'Vehicle', \n",
    "                    fields = list(people_on_board = 'numeric'),\n",
    "                    methods = list(\n",
    "                    add_people = function(x){\n",
    "                        people_on_board <<- people_on_board + x\n",
    "                    }\n",
    "                    ))"
   ]
  },
  {
   "cell_type": "code",
   "execution_count": 52,
   "metadata": {},
   "outputs": [],
   "source": [
    "bus_480 <- buses$new(tires = 8, doors = 2, people_on_board = 25)"
   ]
  },
  {
   "cell_type": "code",
   "execution_count": 53,
   "metadata": {},
   "outputs": [
    {
     "data": {
      "text/plain": [
       "Reference class object of class \"Buses\"\n",
       "Field \"tires\":\n",
       "[1] 8\n",
       "Field \"doors\":\n",
       "[1] 2\n",
       "Field \"price\":\n",
       "numeric(0)\n",
       "Field \"people_on_board\":\n",
       "[1] 25"
      ]
     },
     "metadata": {},
     "output_type": "display_data"
    }
   ],
   "source": [
    "bus_480"
   ]
  },
  {
   "cell_type": "code",
   "execution_count": 54,
   "metadata": {},
   "outputs": [
    {
     "data": {
      "text/html": [
       "'RC'"
      ],
      "text/latex": [
       "'RC'"
      ],
      "text/markdown": [
       "'RC'"
      ],
      "text/plain": [
       "[1] \"RC\""
      ]
     },
     "metadata": {},
     "output_type": "display_data"
    }
   ],
   "source": [
    "otype(bus_480)"
   ]
  },
  {
   "cell_type": "code",
   "execution_count": 55,
   "metadata": {},
   "outputs": [
    {
     "data": {
      "text/html": [
       "TRUE"
      ],
      "text/latex": [
       "TRUE"
      ],
      "text/markdown": [
       "TRUE"
      ],
      "text/plain": [
       "[1] TRUE"
      ]
     },
     "metadata": {},
     "output_type": "display_data"
    }
   ],
   "source": [
    "is(bus_480, 'refClass')"
   ]
  },
  {
   "cell_type": "code",
   "execution_count": 56,
   "metadata": {},
   "outputs": [
    {
     "data": {
      "text/html": [
       "'S4'"
      ],
      "text/latex": [
       "'S4'"
      ],
      "text/markdown": [
       "'S4'"
      ],
      "text/plain": [
       "[1] \"S4\""
      ]
     },
     "metadata": {},
     "output_type": "display_data"
    }
   ],
   "source": [
    "typeof(bus_480)"
   ]
  }
 ],
 "metadata": {
  "kernelspec": {
   "display_name": "R",
   "language": "R",
   "name": "ir"
  },
  "language_info": {
   "codemirror_mode": "r",
   "file_extension": ".r",
   "mimetype": "text/x-r-source",
   "name": "R",
   "pygments_lexer": "r",
   "version": "3.5.1"
  }
 },
 "nbformat": 4,
 "nbformat_minor": 2
}
